{
 "cells": [
  {
   "cell_type": "markdown",
   "id": "eccace3f-1d06-4d72-8d54-f40646908dcb",
   "metadata": {},
   "source": [
    "# Data Science Tools and Ecosystem "
   ]
  },
  {
   "cell_type": "markdown",
   "id": "b65a4566-2148-49f8-8b6e-8139ed9cb274",
   "metadata": {},
   "source": [
    "In this notebook, some of the Data Science Tools and Ecosystem are summarized. "
   ]
  },
  {
   "cell_type": "markdown",
   "id": "1815d4ca-85e9-42c7-a6e7-5b49ea8e1f7a",
   "metadata": {},
   "source": [
    "Some of the popular languages that Data Scientist use are:"
   ]
  },
  {
   "cell_type": "markdown",
   "id": "ff399cf5-217b-4f9a-80d7-9c5603119253",
   "metadata": {},
   "source": [
    "1. Python\n",
    "2. R\n",
    "3. SQL\n",
    "4. Scala\n",
    "5. Julia\n",
    "6. JavaScript "
   ]
  },
  {
   "cell_type": "markdown",
   "id": "8c5aca23-f37e-4d5b-bffb-c5bf24c3d17a",
   "metadata": {},
   "source": [
    "Some of the commonly used libraries used by Data Scientist are: "
   ]
  },
  {
   "cell_type": "markdown",
   "id": "6804d6d7-c323-46ea-a143-67f0a20cfa72",
   "metadata": {},
   "source": [
    "1. NumPy\n",
    "2. Pandas\n",
    "3. Seaborn\n",
    "4. Matplotlib\n",
    "5. SciPy\n",
    "6. TensorFlow"
   ]
  },
  {
   "cell_type": "code",
   "execution_count": null,
   "id": "11626499-80eb-413b-95cf-68dd7acf08ef",
   "metadata": {},
   "outputs": [],
   "source": []
  }
 ],
 "metadata": {
  "kernelspec": {
   "display_name": "Python",
   "language": "python",
   "name": "conda-env-python-py"
  },
  "language_info": {
   "codemirror_mode": {
    "name": "ipython",
    "version": 3
   },
   "file_extension": ".py",
   "mimetype": "text/x-python",
   "name": "python",
   "nbconvert_exporter": "python",
   "pygments_lexer": "ipython3",
   "version": "3.7.12"
  }
 },
 "nbformat": 4,
 "nbformat_minor": 5
}
